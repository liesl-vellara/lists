{
 "cells": [
  {
   "cell_type": "code",
   "execution_count": 1,
   "metadata": {},
   "outputs": [
    {
     "name": "stdout",
     "output_type": "stream",
     "text": [
      "['The Two Fridas', 'My Dress Hanging There', 'Tree of Hope', 'Self Portrait With Monkeys'] [1939, 1933, 1946, 1940]\n"
     ]
    }
   ],
   "source": [
    "#Making two lists called paintings and deers\n",
    "paintings = ['The Two Fridas', 'My Dress Hanging There', 'Tree of Hope', 'Self Portrait With Monkeys']\n",
    "dates = [1939, 1933, 1946, 1940]\n",
    "#print(paintings, dates)"
   ]
  },
  {
   "cell_type": "code",
   "execution_count": 2,
   "metadata": {},
   "outputs": [
    {
     "name": "stdout",
     "output_type": "stream",
     "text": [
      "[('The Two Fridas', 1939), ('My Dress Hanging There', 1933), ('Tree of Hope', 1946), ('Self Portrait With Monkeys', 1940)]\n"
     ]
    }
   ],
   "source": [
    "#combining the two files and assigning them to the variable paintings\n",
    "paintings = list(zip(paintings, dates))\n",
    "#print(paintings)"
   ]
  },
  {
   "cell_type": "code",
   "execution_count": 5,
   "metadata": {},
   "outputs": [
    {
     "name": "stdout",
     "output_type": "stream",
     "text": [
      "[('The Two Fridas', 1939), ('My Dress Hanging There', 1933), ('Tree of Hope', 1946), ('Self Portrait With Monkeys', 1940), ('The Broken Column', 1944), ('The Wounded Deer', 1946), ('Me and My Doll', 1937)]\n"
     ]
    }
   ],
   "source": [
    "#appending three more paintings as tuples instead of lists. I did that by using simple brackets and not square brakcets\n",
    "#since it it not a single element tuple, there is no need for trailing commas\n",
    "paintings.append(('The Broken Column', 1944))\n",
    "paintings.append(('The Wounded Deer', 1946))\n",
    "paintings.append(('Me and My Doll', 1937))\n",
    "print(paintings)"
   ]
  },
  {
   "cell_type": "code",
   "execution_count": 6,
   "metadata": {},
   "outputs": [
    {
     "name": "stdout",
     "output_type": "stream",
     "text": [
      "7\n"
     ]
    }
   ],
   "source": [
    "# Find the length of the 'paintings' list\n",
    "num_of_paintings = len(paintings)\n",
    "#calling the number of paintings\n",
    "print(num_of_paintings)"
   ]
  },
  {
   "cell_type": "code",
   "execution_count": 9,
   "metadata": {},
   "outputs": [
    {
     "name": "stdout",
     "output_type": "stream",
     "text": [
      "[1, 2, 3, 4, 5, 6, 7]\n"
     ]
    }
   ],
   "source": [
    "#use range to create an identification for the list starting with one and ending with the length of the list\n",
    "#save the list to audio_tour_number\n",
    "audio_tour_number = list(range(1, num_of_paintings + 1))\n",
    "print(audio_tour_number)"
   ]
  },
  {
   "cell_type": "code",
   "execution_count": 10,
   "metadata": {},
   "outputs": [
    {
     "name": "stdout",
     "output_type": "stream",
     "text": [
      "[(('The Two Fridas', 1939), 1), (('My Dress Hanging There', 1933), 2), (('Tree of Hope', 1946), 3), (('Self Portrait With Monkeys', 1940), 4), (('The Broken Column', 1944), 5), (('The Wounded Deer', 1946), 6), (('Me and My Doll', 1937), 7)]\n"
     ]
    }
   ],
   "source": [
    "#combine the 'paintings' list and the 'audio_tour_number' list together to form the 'master_list'\n",
    "master_list = list(zip(paintings, audio_tour_number))\n",
    "#print(master_list)"
   ]
  },
  {
   "cell_type": "code",
   "execution_count": null,
   "metadata": {},
   "outputs": [],
   "source": []
  }
 ],
 "metadata": {
  "kernelspec": {
   "display_name": "Python 3",
   "language": "python",
   "name": "python3"
  },
  "language_info": {
   "codemirror_mode": {
    "name": "ipython",
    "version": 3
   },
   "file_extension": ".py",
   "mimetype": "text/x-python",
   "name": "python",
   "nbconvert_exporter": "python",
   "pygments_lexer": "ipython3",
   "version": "3.8.5"
  }
 },
 "nbformat": 4,
 "nbformat_minor": 4
}
